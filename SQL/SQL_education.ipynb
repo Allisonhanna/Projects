{
  "cells": [
    {
      "cell_type": "markdown",
      "metadata": {
        "id": "view-in-github",
        "colab_type": "text"
      },
      "source": [
        "<a href=\"https://colab.research.google.com/github/Allisonhanna/Projects/blob/main/SQL_education.ipynb\" target=\"_parent\"><img src=\"https://colab.research.google.com/assets/colab-badge.svg\" alt=\"Open In Colab\"/></a>"
      ]
    },
    {
      "cell_type": "markdown",
      "metadata": {
        "id": "UN85wMJtWzDS"
      },
      "source": [
        "# Описание\n",
        "\n",
        "**employees** Таблица с информацией по сотрудникам\n",
        "\n",
        "- emp_no - id сотрудника\n",
        "- title - Название должности\n",
        "- birth_date - дата рождения\n",
        "- first_name - Имя\n",
        "- first_name - Фамилия\n",
        "- gender - пол\n",
        "- hire_date - первая дата устройства на работу\n",
        "\n",
        "**dept_emp** - Таблица с информацией в каком департаменте работает сотрудник\n",
        "\n",
        "- emp_no - id сотрудника\n",
        "- dept_name - Название департамента\n",
        "- from_date - дата начала работы в департаменте\n",
        "- to_date - дата ококнчания работы в департаменте (если 9999-01-01 - то работает по наст время)\n",
        "\n",
        "\n",
        "**dept_manager** - Таблица с информацией в каком департаменте работает менеджер\n",
        "\n",
        "- emp_no - id менеджера (сотрудника)\n",
        "- dept_name - Название департамента\n",
        "- from_date - дата начала работы в департаменте\n",
        "- to_date - дата ококнчания работы в департаменте (если 9999-01-01 - то работает по наст время)\n",
        "\n",
        "\n",
        "**salaries** - Таблица с информацией о зарплатах сотрудников\n",
        "\n",
        "- emp_no - id сотрудника\n",
        "- salaries - Зарплата"
      ]
    },
    {
      "cell_type": "markdown",
      "metadata": {
        "id": "1jYkNV33WzDU"
      },
      "source": [
        "Укажите путь до места сохранения EmployeeSQL.db, данный путь был приведен в качестве примера"
      ]
    },
    {
      "cell_type": "code",
      "execution_count": null,
      "metadata": {
        "id": "0L1oevGJWzDV"
      },
      "outputs": [],
      "source": [
        "%sql sqlite:///Files/EmployeeSQL.db"
      ]
    },
    {
      "cell_type": "code",
      "execution_count": null,
      "metadata": {
        "id": "_qK-QXKcWzDW",
        "outputId": "34696493-78ac-4ca8-80b8-5804f5cfcc9c"
      },
      "outputs": [
        {
          "name": "stdout",
          "output_type": "stream",
          "text": [
            " * sqlite:///Files/EmployeeSQL.db\n",
            "Done.\n"
          ]
        },
        {
          "data": {
            "text/html": [
              "<table>\n",
              "    <tr>\n",
              "        <th>name</th>\n",
              "    </tr>\n",
              "    <tr>\n",
              "        <td>employees</td>\n",
              "    </tr>\n",
              "    <tr>\n",
              "        <td>dept_manager</td>\n",
              "    </tr>\n",
              "    <tr>\n",
              "        <td>dept_emp</td>\n",
              "    </tr>\n",
              "    <tr>\n",
              "        <td>salaries</td>\n",
              "    </tr>\n",
              "    <tr>\n",
              "        <td>employees_10</td>\n",
              "    </tr>\n",
              "    <tr>\n",
              "        <td>employees_3</td>\n",
              "    </tr>\n",
              "    <tr>\n",
              "        <td>employees_4</td>\n",
              "    </tr>\n",
              "</table>"
            ],
            "text/plain": [
              "[('employees',),\n",
              " ('dept_manager',),\n",
              " ('dept_emp',),\n",
              " ('salaries',),\n",
              " ('employees_10',),\n",
              " ('employees_3',),\n",
              " ('employees_4',)]"
            ]
          },
          "execution_count": 3,
          "metadata": {},
          "output_type": "execute_result"
        }
      ],
      "source": [
        "%%sql\n",
        "\n",
        "SELECT name FROM sqlite_master\n"
      ]
    },
    {
      "cell_type": "markdown",
      "metadata": {
        "id": "k_3BbiGQWzDX"
      },
      "source": [
        "1) Выведим первые 10 строк из таблицы dept_emp"
      ]
    },
    {
      "cell_type": "code",
      "execution_count": null,
      "metadata": {
        "id": "DfUL4pdFWzDX",
        "outputId": "b78b03e6-3ddb-496c-d77e-bf1435a3a933"
      },
      "outputs": [
        {
          "name": "stdout",
          "output_type": "stream",
          "text": [
            " * sqlite:///Files/EmployeeSQL.db\n",
            "Done.\n"
          ]
        },
        {
          "data": {
            "text/html": [
              "<table>\n",
              "    <tr>\n",
              "        <th>emp_no</th>\n",
              "        <th>dept_name</th>\n",
              "        <th>from_date</th>\n",
              "        <th>to_date</th>\n",
              "    </tr>\n",
              "    <tr>\n",
              "        <td>10001</td>\n",
              "        <td>Development</td>\n",
              "        <td>1986-06-26</td>\n",
              "        <td>9999-01-01</td>\n",
              "    </tr>\n",
              "    <tr>\n",
              "        <td>10002</td>\n",
              "        <td>Sales</td>\n",
              "        <td>1996-08-03</td>\n",
              "        <td>9999-01-01</td>\n",
              "    </tr>\n",
              "    <tr>\n",
              "        <td>10003</td>\n",
              "        <td>Production</td>\n",
              "        <td>1995-12-03</td>\n",
              "        <td>9999-01-01</td>\n",
              "    </tr>\n",
              "    <tr>\n",
              "        <td>10004</td>\n",
              "        <td>Production</td>\n",
              "        <td>1986-12-01</td>\n",
              "        <td>9999-01-01</td>\n",
              "    </tr>\n",
              "    <tr>\n",
              "        <td>10005</td>\n",
              "        <td>Human Resources</td>\n",
              "        <td>1989-09-12</td>\n",
              "        <td>9999-01-01</td>\n",
              "    </tr>\n",
              "    <tr>\n",
              "        <td>10006</td>\n",
              "        <td>Development</td>\n",
              "        <td>1990-08-05</td>\n",
              "        <td>9999-01-01</td>\n",
              "    </tr>\n",
              "    <tr>\n",
              "        <td>10007</td>\n",
              "        <td>Research</td>\n",
              "        <td>1989-02-10</td>\n",
              "        <td>9999-01-01</td>\n",
              "    </tr>\n",
              "    <tr>\n",
              "        <td>10008</td>\n",
              "        <td>Development</td>\n",
              "        <td>1998-03-11</td>\n",
              "        <td>2000-07-31</td>\n",
              "    </tr>\n",
              "    <tr>\n",
              "        <td>10009</td>\n",
              "        <td>Quality Management</td>\n",
              "        <td>1985-02-18</td>\n",
              "        <td>9999-01-01</td>\n",
              "    </tr>\n",
              "    <tr>\n",
              "        <td>10010</td>\n",
              "        <td>Production</td>\n",
              "        <td>1996-11-24</td>\n",
              "        <td>2000-06-26</td>\n",
              "    </tr>\n",
              "</table>"
            ],
            "text/plain": [
              "[(10001, 'Development', '1986-06-26', '9999-01-01'),\n",
              " (10002, 'Sales', '1996-08-03', '9999-01-01'),\n",
              " (10003, 'Production', '1995-12-03', '9999-01-01'),\n",
              " (10004, 'Production', '1986-12-01', '9999-01-01'),\n",
              " (10005, 'Human Resources', '1989-09-12', '9999-01-01'),\n",
              " (10006, 'Development', '1990-08-05', '9999-01-01'),\n",
              " (10007, 'Research', '1989-02-10', '9999-01-01'),\n",
              " (10008, 'Development', '1998-03-11', '2000-07-31'),\n",
              " (10009, 'Quality Management', '1985-02-18', '9999-01-01'),\n",
              " (10010, 'Production', '1996-11-24', '2000-06-26')]"
            ]
          },
          "execution_count": 6,
          "metadata": {},
          "output_type": "execute_result"
        }
      ],
      "source": [
        "%%sql\n",
        "\n",
        "SELECT * from dept_emp\n",
        "limit 10"
      ]
    },
    {
      "cell_type": "markdown",
      "metadata": {
        "id": "xzZ3fMW9WzDX"
      },
      "source": [
        "2) Сделаю 2ую таблицу employees_2 на основании employees, где создадите дополнительные столбцы:\n",
        "- месяц рождения (по столбцу birth_date)\n",
        "- год рождения (по столбцу birth_date)\n",
        "\n",
        "Выведим первые 5 строк"
      ]
    },
    {
      "cell_type": "code",
      "execution_count": null,
      "metadata": {
        "id": "ep9d9kGfWzDX",
        "outputId": "5073265e-a693-41df-fd98-e3eefbc60ed0"
      },
      "outputs": [
        {
          "name": "stdout",
          "output_type": "stream",
          "text": [
            " * sqlite:///Files/EmployeeSQL.db\n",
            "Done.\n",
            "Done.\n"
          ]
        },
        {
          "data": {
            "text/plain": [
              "[]"
            ]
          },
          "execution_count": 13,
          "metadata": {},
          "output_type": "execute_result"
        }
      ],
      "source": [
        "%%sql\n",
        "\n",
        "drop table if exists employees_2;\n",
        "create table if not exists employees_2 as\n",
        "\n",
        "SELECT *, strftime('%m', birth_date) as month, strftime('%d', birth_date) as day\n",
        "from employees\n",
        "\n"
      ]
    },
    {
      "cell_type": "code",
      "execution_count": null,
      "metadata": {
        "id": "bvp6kG3qWzDY",
        "outputId": "4cb608ed-49fa-43dd-9fdc-90ee4bd3af32"
      },
      "outputs": [
        {
          "name": "stdout",
          "output_type": "stream",
          "text": [
            " * sqlite:///Files/EmployeeSQL.db\n",
            "Done.\n"
          ]
        },
        {
          "data": {
            "text/html": [
              "<table>\n",
              "    <tr>\n",
              "        <th>emp_no</th>\n",
              "        <th>title</th>\n",
              "        <th>birth_date</th>\n",
              "        <th>first_name</th>\n",
              "        <th>last_name</th>\n",
              "        <th>gender</th>\n",
              "        <th>hire_date</th>\n",
              "        <th>month</th>\n",
              "        <th>day</th>\n",
              "    </tr>\n",
              "    <tr>\n",
              "        <td>10001</td>\n",
              "        <td>Senior Engineer</td>\n",
              "        <td>1953-09-02</td>\n",
              "        <td>Georgi</td>\n",
              "        <td>Facello</td>\n",
              "        <td>M</td>\n",
              "        <td>1986-06-26</td>\n",
              "        <td>09</td>\n",
              "        <td>02</td>\n",
              "    </tr>\n",
              "    <tr>\n",
              "        <td>10002</td>\n",
              "        <td>Staff</td>\n",
              "        <td>1964-06-02</td>\n",
              "        <td>Bezalel</td>\n",
              "        <td>Simmel</td>\n",
              "        <td>F</td>\n",
              "        <td>1985-11-21</td>\n",
              "        <td>06</td>\n",
              "        <td>02</td>\n",
              "    </tr>\n",
              "    <tr>\n",
              "        <td>10003</td>\n",
              "        <td>Senior Engineer</td>\n",
              "        <td>1959-12-03</td>\n",
              "        <td>Parto</td>\n",
              "        <td>Bamford</td>\n",
              "        <td>M</td>\n",
              "        <td>1986-08-28</td>\n",
              "        <td>12</td>\n",
              "        <td>03</td>\n",
              "    </tr>\n",
              "    <tr>\n",
              "        <td>10004</td>\n",
              "        <td>Senior Engineer</td>\n",
              "        <td>1954-05-01</td>\n",
              "        <td>Chirstian</td>\n",
              "        <td>Koblick</td>\n",
              "        <td>M</td>\n",
              "        <td>1986-12-01</td>\n",
              "        <td>05</td>\n",
              "        <td>01</td>\n",
              "    </tr>\n",
              "    <tr>\n",
              "        <td>10005</td>\n",
              "        <td>Staff</td>\n",
              "        <td>1955-01-21</td>\n",
              "        <td>Kyoichi</td>\n",
              "        <td>Maliniak</td>\n",
              "        <td>M</td>\n",
              "        <td>1989-09-12</td>\n",
              "        <td>01</td>\n",
              "        <td>21</td>\n",
              "    </tr>\n",
              "</table>"
            ],
            "text/plain": [
              "[(10001, 'Senior Engineer', '1953-09-02', 'Georgi', 'Facello', 'M', '1986-06-26', '09', '02'),\n",
              " (10002, 'Staff', '1964-06-02', 'Bezalel', 'Simmel', 'F', '1985-11-21', '06', '02'),\n",
              " (10003, 'Senior Engineer', '1959-12-03', 'Parto', 'Bamford', 'M', '1986-08-28', '12', '03'),\n",
              " (10004, 'Senior Engineer', '1954-05-01', 'Chirstian', 'Koblick', 'M', '1986-12-01', '05', '01'),\n",
              " (10005, 'Staff', '1955-01-21', 'Kyoichi', 'Maliniak', 'M', '1989-09-12', '01', '21')]"
            ]
          },
          "execution_count": 14,
          "metadata": {},
          "output_type": "execute_result"
        }
      ],
      "source": [
        "%%sql\n",
        "\n",
        "SELECT * from employees_2\n",
        "limit 5"
      ]
    },
    {
      "cell_type": "markdown",
      "metadata": {
        "id": "8GMmbY1pWzDY"
      },
      "source": [
        "3) Удалим таблицу employees_2"
      ]
    },
    {
      "cell_type": "code",
      "execution_count": null,
      "metadata": {
        "id": "frtBcP1LWzDY",
        "outputId": "222eea3b-0524-4d16-c680-2009eeb412fb"
      },
      "outputs": [
        {
          "name": "stdout",
          "output_type": "stream",
          "text": [
            " * sqlite:///Files/EmployeeSQL.db\n",
            "Done.\n",
            "(sqlite3.OperationalError) cannot commit - no transaction is active\n",
            "[SQL: COMMIT]\n",
            "(Background on this error at: https://sqlalche.me/e/14/e3q8)\n"
          ]
        }
      ],
      "source": [
        "%%sql\n",
        "\n",
        "drop table if exists employees_2;\n",
        "\n",
        "COMMIT"
      ]
    },
    {
      "cell_type": "markdown",
      "metadata": {
        "id": "ADvFnZPzWzDY"
      },
      "source": [
        "4) Найдём всех сотрудников чье имя Georgi. Выведите первые 5 строк"
      ]
    },
    {
      "cell_type": "code",
      "execution_count": null,
      "metadata": {
        "id": "P7XrMtHAWzDZ",
        "outputId": "55bbf29f-349b-477b-9d1f-6f0c1563fe93"
      },
      "outputs": [
        {
          "name": "stdout",
          "output_type": "stream",
          "text": [
            " * sqlite:///Files/EmployeeSQL.db\n",
            "Done.\n"
          ]
        },
        {
          "data": {
            "text/html": [
              "<table>\n",
              "    <tr>\n",
              "        <th>emp_no</th>\n",
              "        <th>title</th>\n",
              "        <th>birth_date</th>\n",
              "        <th>first_name</th>\n",
              "        <th>last_name</th>\n",
              "        <th>gender</th>\n",
              "        <th>hire_date</th>\n",
              "    </tr>\n",
              "    <tr>\n",
              "        <td>10001</td>\n",
              "        <td>Senior Engineer</td>\n",
              "        <td>1953-09-02</td>\n",
              "        <td>Georgi</td>\n",
              "        <td>Facello</td>\n",
              "        <td>M</td>\n",
              "        <td>1986-06-26</td>\n",
              "    </tr>\n",
              "    <tr>\n",
              "        <td>10909</td>\n",
              "        <td>Senior Engineer</td>\n",
              "        <td>1954-11-11</td>\n",
              "        <td>Georgi</td>\n",
              "        <td>Atchley</td>\n",
              "        <td>M</td>\n",
              "        <td>1985-04-21</td>\n",
              "    </tr>\n",
              "    <tr>\n",
              "        <td>11029</td>\n",
              "        <td>Senior Staff</td>\n",
              "        <td>1962-07-12</td>\n",
              "        <td>Georgi</td>\n",
              "        <td>Itzfeldt</td>\n",
              "        <td>M</td>\n",
              "        <td>1992-12-27</td>\n",
              "    </tr>\n",
              "    <tr>\n",
              "        <td>11430</td>\n",
              "        <td>Staff</td>\n",
              "        <td>1957-01-23</td>\n",
              "        <td>Georgi</td>\n",
              "        <td>Klassen</td>\n",
              "        <td>M</td>\n",
              "        <td>1996-02-27</td>\n",
              "    </tr>\n",
              "    <tr>\n",
              "        <td>12157</td>\n",
              "        <td>Staff</td>\n",
              "        <td>1960-03-30</td>\n",
              "        <td>Georgi</td>\n",
              "        <td>Barinka</td>\n",
              "        <td>M</td>\n",
              "        <td>1985-06-04</td>\n",
              "    </tr>\n",
              "</table>"
            ],
            "text/plain": [
              "[(10001, 'Senior Engineer', '1953-09-02', 'Georgi', 'Facello', 'M', '1986-06-26'),\n",
              " (10909, 'Senior Engineer', '1954-11-11', 'Georgi', 'Atchley', 'M', '1985-04-21'),\n",
              " (11029, 'Senior Staff', '1962-07-12', 'Georgi', 'Itzfeldt', 'M', '1992-12-27'),\n",
              " (11430, 'Staff', '1957-01-23', 'Georgi', 'Klassen', 'M', '1996-02-27'),\n",
              " (12157, 'Staff', '1960-03-30', 'Georgi', 'Barinka', 'M', '1985-06-04')]"
            ]
          },
          "execution_count": 4,
          "metadata": {},
          "output_type": "execute_result"
        }
      ],
      "source": [
        "%%sql\n",
        "\n",
        "SELECT * from employees\n",
        "WHERE first_name = 'Georgi'\n",
        "limit 5"
      ]
    },
    {
      "cell_type": "markdown",
      "metadata": {
        "id": "OX0ZK-maWzDZ"
      },
      "source": [
        "5) Найдём всех сотрудников чье имя Georgi, которые до сих пор работают в компании. Выведим первые 5 строк, содержащих имя, фамилию, должность, дату начала работы, а также дату окончания работы (из dept_emp)"
      ]
    },
    {
      "cell_type": "code",
      "execution_count": null,
      "metadata": {
        "id": "MaOS9BtBWzDZ",
        "outputId": "36ebdb45-909a-40ba-8e81-364babb124b0"
      },
      "outputs": [
        {
          "name": "stdout",
          "output_type": "stream",
          "text": [
            " * sqlite:///Files/EmployeeSQL.db\n",
            "Done.\n"
          ]
        },
        {
          "data": {
            "text/html": [
              "<table>\n",
              "    <tr>\n",
              "        <th>emp_no</th>\n",
              "        <th>title</th>\n",
              "        <th>birth_date</th>\n",
              "        <th>first_name</th>\n",
              "        <th>last_name</th>\n",
              "        <th>gender</th>\n",
              "        <th>hire_date</th>\n",
              "        <th>to_date</th>\n",
              "    </tr>\n",
              "    <tr>\n",
              "        <td>10001</td>\n",
              "        <td>Senior Engineer</td>\n",
              "        <td>1953-09-02</td>\n",
              "        <td>Georgi</td>\n",
              "        <td>Facello</td>\n",
              "        <td>M</td>\n",
              "        <td>1986-06-26</td>\n",
              "        <td>9999-01-01</td>\n",
              "    </tr>\n",
              "    <tr>\n",
              "        <td>10909</td>\n",
              "        <td>Senior Engineer</td>\n",
              "        <td>1954-11-11</td>\n",
              "        <td>Georgi</td>\n",
              "        <td>Atchley</td>\n",
              "        <td>M</td>\n",
              "        <td>1985-04-21</td>\n",
              "        <td>9999-01-01</td>\n",
              "    </tr>\n",
              "    <tr>\n",
              "        <td>11029</td>\n",
              "        <td>Senior Staff</td>\n",
              "        <td>1962-07-12</td>\n",
              "        <td>Georgi</td>\n",
              "        <td>Itzfeldt</td>\n",
              "        <td>M</td>\n",
              "        <td>1992-12-27</td>\n",
              "        <td>9999-01-01</td>\n",
              "    </tr>\n",
              "    <tr>\n",
              "        <td>11430</td>\n",
              "        <td>Staff</td>\n",
              "        <td>1957-01-23</td>\n",
              "        <td>Georgi</td>\n",
              "        <td>Klassen</td>\n",
              "        <td>M</td>\n",
              "        <td>1996-02-27</td>\n",
              "        <td>9999-01-01</td>\n",
              "    </tr>\n",
              "    <tr>\n",
              "        <td>12157</td>\n",
              "        <td>Staff</td>\n",
              "        <td>1960-03-30</td>\n",
              "        <td>Georgi</td>\n",
              "        <td>Barinka</td>\n",
              "        <td>M</td>\n",
              "        <td>1985-06-04</td>\n",
              "        <td>9999-01-01</td>\n",
              "    </tr>\n",
              "</table>"
            ],
            "text/plain": [
              "[(10001, 'Senior Engineer', '1953-09-02', 'Georgi', 'Facello', 'M', '1986-06-26', '9999-01-01'),\n",
              " (10909, 'Senior Engineer', '1954-11-11', 'Georgi', 'Atchley', 'M', '1985-04-21', '9999-01-01'),\n",
              " (11029, 'Senior Staff', '1962-07-12', 'Georgi', 'Itzfeldt', 'M', '1992-12-27', '9999-01-01'),\n",
              " (11430, 'Staff', '1957-01-23', 'Georgi', 'Klassen', 'M', '1996-02-27', '9999-01-01'),\n",
              " (12157, 'Staff', '1960-03-30', 'Georgi', 'Barinka', 'M', '1985-06-04', '9999-01-01')]"
            ]
          },
          "execution_count": 8,
          "metadata": {},
          "output_type": "execute_result"
        }
      ],
      "source": [
        "%%sql\n",
        "\n",
        "SELECT e.*, s.to_date\n",
        "from employees as e\n",
        "left join dept_emp as s on e.emp_no = s.emp_no\n",
        "where first_name = 'Georgi' and to_date = '9999-01-01'\n",
        "limit 5;"
      ]
    },
    {
      "cell_type": "markdown",
      "metadata": {
        "id": "zopNgYEXWzDZ"
      },
      "source": [
        "6) Выведим топ 2 заплаты в каждом департаменте.\n"
      ]
    },
    {
      "cell_type": "code",
      "execution_count": null,
      "metadata": {
        "scrolled": true,
        "id": "vniEIOD2WzDZ",
        "outputId": "e6faa6e6-fec7-4170-e94e-18e8f4064265"
      },
      "outputs": [
        {
          "name": "stdout",
          "output_type": "stream",
          "text": [
            " * sqlite:///Files/EmployeeSQL.db\n",
            "Done.\n"
          ]
        },
        {
          "data": {
            "text/html": [
              "<table>\n",
              "    <tr>\n",
              "        <th>dept_name</th>\n",
              "        <th>salary</th>\n",
              "    </tr>\n",
              "    <tr>\n",
              "        <td>Customer Service</td>\n",
              "        <td>53846</td>\n",
              "    </tr>\n",
              "    <tr>\n",
              "        <td>Customer Service</td>\n",
              "        <td>40000</td>\n",
              "    </tr>\n",
              "    <tr>\n",
              "        <td>Development</td>\n",
              "        <td>48626</td>\n",
              "    </tr>\n",
              "    <tr>\n",
              "        <td>Development</td>\n",
              "        <td>40000</td>\n",
              "    </tr>\n",
              "    <tr>\n",
              "        <td>Finance</td>\n",
              "        <td>60026</td>\n",
              "    </tr>\n",
              "    <tr>\n",
              "        <td>Finance</td>\n",
              "        <td>52070</td>\n",
              "    </tr>\n",
              "    <tr>\n",
              "        <td>Human Resources</td>\n",
              "        <td>48291</td>\n",
              "    </tr>\n",
              "    <tr>\n",
              "        <td>Human Resources</td>\n",
              "        <td>40000</td>\n",
              "    </tr>\n",
              "    <tr>\n",
              "        <td>Marketing</td>\n",
              "        <td>71166</td>\n",
              "    </tr>\n",
              "    <tr>\n",
              "        <td>Marketing</td>\n",
              "        <td>69941</td>\n",
              "    </tr>\n",
              "    <tr>\n",
              "        <td>Production</td>\n",
              "        <td>50365</td>\n",
              "    </tr>\n",
              "    <tr>\n",
              "        <td>Production</td>\n",
              "        <td>42093</td>\n",
              "    </tr>\n",
              "    <tr>\n",
              "        <td>Quality Management</td>\n",
              "        <td>61357</td>\n",
              "    </tr>\n",
              "    <tr>\n",
              "        <td>Quality Management</td>\n",
              "        <td>50457</td>\n",
              "    </tr>\n",
              "    <tr>\n",
              "        <td>Research</td>\n",
              "        <td>72446</td>\n",
              "    </tr>\n",
              "    <tr>\n",
              "        <td>Research</td>\n",
              "        <td>48077</td>\n",
              "    </tr>\n",
              "    <tr>\n",
              "        <td>Sales</td>\n",
              "        <td>71612</td>\n",
              "    </tr>\n",
              "    <tr>\n",
              "        <td>Sales</td>\n",
              "        <td>71148</td>\n",
              "    </tr>\n",
              "</table>"
            ],
            "text/plain": [
              "[('Customer Service', 53846),\n",
              " ('Customer Service', 40000),\n",
              " ('Development', 48626),\n",
              " ('Development', 40000),\n",
              " ('Finance', 60026),\n",
              " ('Finance', 52070),\n",
              " ('Human Resources', 48291),\n",
              " ('Human Resources', 40000),\n",
              " ('Marketing', 71166),\n",
              " ('Marketing', 69941),\n",
              " ('Production', 50365),\n",
              " ('Production', 42093),\n",
              " ('Quality Management', 61357),\n",
              " ('Quality Management', 50457),\n",
              " ('Research', 72446),\n",
              " ('Research', 48077),\n",
              " ('Sales', 71612),\n",
              " ('Sales', 71148)]"
            ]
          },
          "execution_count": 28,
          "metadata": {},
          "output_type": "execute_result"
        }
      ],
      "source": [
        "%%sql\n",
        "\n",
        "with rank_salary as (\n",
        "    select distinct(s.salary), dept_name,\n",
        "    dense_rank() over(partition by dept_name order by s.salary desc) as rank\n",
        "    from salaries s\n",
        "    inner join dept_manager d on d.emp_no = s.emp_no\n",
        ")\n",
        "select dept_name, salary\n",
        "from rank_salary\n",
        "where rank < 3\n",
        "order by dept_name\n",
        "\n",
        "--господи как же я долго делал именно эту задачу, я придумал 3 разные идеи, но только с одной смог достичь, чтобы выписать 2 ЗП, а не одну"
      ]
    },
    {
      "cell_type": "markdown",
      "metadata": {
        "id": "nyZlKHKYWzDa"
      },
      "source": [
        "7) Найдите 2 по счету максимальную зарплату **среди менеджеров** **двумя способами обязательно!**:\n",
        "- с использованием подзапроса\n",
        "- с использованием limit\n",
        "\n",
        "Вывести id менеджера и значение зарплаты"
      ]
    },
    {
      "cell_type": "code",
      "execution_count": null,
      "metadata": {
        "id": "_mn6H0XbWzDa",
        "outputId": "8518c9dc-206e-449f-d958-bf1acb3dee6a"
      },
      "outputs": [
        {
          "ename": "SyntaxError",
          "evalue": "invalid syntax (2589036125.py, line 3)",
          "output_type": "error",
          "traceback": [
            "\u001b[1;36m  Cell \u001b[1;32mIn[9], line 3\u001b[1;36m\u001b[0m\n\u001b[1;33m    select e.*, max(distinct(s.salary)) as salary\u001b[0m\n\u001b[1;37m           ^\u001b[0m\n\u001b[1;31mSyntaxError\u001b[0m\u001b[1;31m:\u001b[0m invalid syntax\n"
          ]
        }
      ],
      "source": [
        "%sql\n",
        "\n",
        "select e.*, max(distinct(s.salary)) as salary\n",
        "from employees e\n",
        "left join salaries s on s.emp_no = e.emp_no\n",
        "where salary not in (\n",
        "    select max(salary)\n",
        "    from salaries) and title = 'Manager'\n"
      ]
    },
    {
      "cell_type": "code",
      "execution_count": null,
      "metadata": {
        "id": "DpxwfW0GWzDa",
        "outputId": "66690481-db73-4340-897f-c76b78425542"
      },
      "outputs": [
        {
          "name": "stdout",
          "output_type": "stream",
          "text": [
            " * sqlite:///Files/EmployeeSQL.db\n",
            "Done.\n"
          ]
        },
        {
          "data": {
            "text/html": [
              "<table>\n",
              "    <tr>\n",
              "        <th>emp_no</th>\n",
              "        <th>title</th>\n",
              "        <th>birth_date</th>\n",
              "        <th>first_name</th>\n",
              "        <th>last_name</th>\n",
              "        <th>gender</th>\n",
              "        <th>hire_date</th>\n",
              "        <th>salary</th>\n",
              "    </tr>\n",
              "    <tr>\n",
              "        <td>111035</td>\n",
              "        <td>Manager</td>\n",
              "        <td>1962-02-24</td>\n",
              "        <td>Przemyslawa</td>\n",
              "        <td>Kaelbling</td>\n",
              "        <td>M</td>\n",
              "        <td>1985-01-01</td>\n",
              "        <td>71612</td>\n",
              "    </tr>\n",
              "</table>"
            ],
            "text/plain": [
              "[(111035, 'Manager', '1962-02-24', 'Przemyslawa', 'Kaelbling', 'M', '1985-01-01', 71612)]"
            ]
          },
          "execution_count": 38,
          "metadata": {},
          "output_type": "execute_result"
        }
      ],
      "source": [
        "%%sql\n",
        "\n",
        "select e.*, s.salary\n",
        "from employees e\n",
        "left join salaries s on s.emp_no = e.emp_no\n",
        "where title = 'Manager'\n",
        "order by salary desc\n",
        "\n",
        "limit 1, 1"
      ]
    },
    {
      "cell_type": "markdown",
      "metadata": {
        "id": "ZMaNEHNSWzDa"
      },
      "source": [
        "8) Выведим среднюю зарплату и название тех депаратаментов (dept_emp), где **среднее значение зарплаты** больше 50000\n"
      ]
    },
    {
      "cell_type": "code",
      "execution_count": null,
      "metadata": {
        "id": "kZF8y2nOWzDa",
        "outputId": "256f8f2d-ece8-4b52-9a9d-308619375af0"
      },
      "outputs": [
        {
          "name": "stdout",
          "output_type": "stream",
          "text": [
            " * sqlite:///Files/EmployeeSQL.db\n",
            "Done.\n"
          ]
        },
        {
          "data": {
            "text/html": [
              "<table>\n",
              "    <tr>\n",
              "        <th>dept_name</th>\n",
              "        <th>avg_salary</th>\n",
              "    </tr>\n",
              "    <tr>\n",
              "        <td>Finance</td>\n",
              "        <td>59533.51654560129</td>\n",
              "    </tr>\n",
              "    <tr>\n",
              "        <td>Marketing</td>\n",
              "        <td>61095.89738261343</td>\n",
              "    </tr>\n",
              "    <tr>\n",
              "        <td>Sales</td>\n",
              "        <td>69832.12715092354</td>\n",
              "    </tr>\n",
              "</table>"
            ],
            "text/plain": [
              "[('Finance', 59533.51654560129),\n",
              " ('Marketing', 61095.89738261343),\n",
              " ('Sales', 69832.12715092354)]"
            ]
          },
          "execution_count": 79,
          "metadata": {},
          "output_type": "execute_result"
        }
      ],
      "source": [
        "%%sql\n",
        "\n",
        "select d.dept_name, avg(s.salary) as avg_salary\n",
        "from dept_emp d\n",
        "inner join salaries s on s.emp_no = d.emp_no\n",
        "group by dept_name\n",
        "having avg_salary > 50000\n"
      ]
    },
    {
      "cell_type": "markdown",
      "metadata": {
        "id": "nlldu57pWzDa"
      },
      "source": [
        "9) Выведим среднюю зарплату по всем сотрудникам и округлим при помощи round()"
      ]
    },
    {
      "cell_type": "code",
      "execution_count": null,
      "metadata": {
        "id": "CzLgNayjWzDb",
        "outputId": "1e321ca9-89c8-41a7-d47e-10d4a895128b"
      },
      "outputs": [
        {
          "name": "stdout",
          "output_type": "stream",
          "text": [
            " * sqlite:///Files/EmployeeSQL.db\n",
            "Done.\n"
          ]
        },
        {
          "data": {
            "text/html": [
              "<table>\n",
              "    <tr>\n",
              "        <th>avg_salary</th>\n",
              "    </tr>\n",
              "    <tr>\n",
              "        <td>52971.0</td>\n",
              "    </tr>\n",
              "</table>"
            ],
            "text/plain": [
              "[(52971.0,)]"
            ]
          },
          "execution_count": 84,
          "metadata": {},
          "output_type": "execute_result"
        }
      ],
      "source": [
        "%%sql\n",
        "\n",
        "select round(avg(salary)) as avg_salary\n",
        "from salaries\n"
      ]
    },
    {
      "cell_type": "markdown",
      "metadata": {
        "id": "UFrgZydJWzDb"
      },
      "source": [
        "10) Выведим первые 10 строк:\n",
        "- id сотрудника (относится ко всем сотрудникам)\n",
        "- Имя сотрудника\n",
        "- Фамилию сотрудника\n",
        "- Должность\n",
        "- Департамент\n",
        "- Зарплату (иметь в виду, что это число, а не строка)\n",
        "- Дату начала работы в департаменте\n",
        "- Дату окончания работы в департаменте\n",
        "- **Флаг** того, что человек работает в данном депаратаменте (**если стоит дата 9999-01-01, то человек продолжает работать и ставим 1, иначе 0 (то есть уже не работает)**)\n",
        "- Флаг того, что его зарплата выше средней, если **1 - выше средней или равно, иначе 0** (значение расчитано в задании 9, можно скопировать значение руками)\n"
      ]
    },
    {
      "cell_type": "code",
      "execution_count": null,
      "metadata": {
        "scrolled": true,
        "id": "G2Ekg1QVWzDb",
        "outputId": "b524f874-ea04-40a8-d6b0-f888c1625137"
      },
      "outputs": [
        {
          "name": "stdout",
          "output_type": "stream",
          "text": [
            " * sqlite:///Files/EmployeeSQL.db\n",
            "Done.\n"
          ]
        },
        {
          "data": {
            "text/html": [
              "<table>\n",
              "    <tr>\n",
              "        <th>emp_no</th>\n",
              "        <th>title</th>\n",
              "        <th>birth_date</th>\n",
              "        <th>first_name</th>\n",
              "        <th>last_name</th>\n",
              "        <th>gender</th>\n",
              "        <th>hire_date</th>\n",
              "        <th>to_date</th>\n",
              "        <th>dept_name</th>\n",
              "        <th>salary</th>\n",
              "        <th>flg_curr</th>\n",
              "        <th>flg_avg_salary</th>\n",
              "    </tr>\n",
              "    <tr>\n",
              "        <td>10001</td>\n",
              "        <td>Senior Engineer</td>\n",
              "        <td>1953-09-02</td>\n",
              "        <td>Georgi</td>\n",
              "        <td>Facello</td>\n",
              "        <td>M</td>\n",
              "        <td>1986-06-26</td>\n",
              "        <td>9999-01-01</td>\n",
              "        <td>Development</td>\n",
              "        <td>60117</td>\n",
              "        <td>1</td>\n",
              "        <td>1</td>\n",
              "    </tr>\n",
              "    <tr>\n",
              "        <td>10002</td>\n",
              "        <td>Staff</td>\n",
              "        <td>1964-06-02</td>\n",
              "        <td>Bezalel</td>\n",
              "        <td>Simmel</td>\n",
              "        <td>F</td>\n",
              "        <td>1985-11-21</td>\n",
              "        <td>9999-01-01</td>\n",
              "        <td>Sales</td>\n",
              "        <td>65828</td>\n",
              "        <td>1</td>\n",
              "        <td>1</td>\n",
              "    </tr>\n",
              "    <tr>\n",
              "        <td>10003</td>\n",
              "        <td>Senior Engineer</td>\n",
              "        <td>1959-12-03</td>\n",
              "        <td>Parto</td>\n",
              "        <td>Bamford</td>\n",
              "        <td>M</td>\n",
              "        <td>1986-08-28</td>\n",
              "        <td>9999-01-01</td>\n",
              "        <td>Production</td>\n",
              "        <td>40006</td>\n",
              "        <td>1</td>\n",
              "        <td>0</td>\n",
              "    </tr>\n",
              "    <tr>\n",
              "        <td>10004</td>\n",
              "        <td>Senior Engineer</td>\n",
              "        <td>1954-05-01</td>\n",
              "        <td>Chirstian</td>\n",
              "        <td>Koblick</td>\n",
              "        <td>M</td>\n",
              "        <td>1986-12-01</td>\n",
              "        <td>9999-01-01</td>\n",
              "        <td>Production</td>\n",
              "        <td>40054</td>\n",
              "        <td>1</td>\n",
              "        <td>0</td>\n",
              "    </tr>\n",
              "    <tr>\n",
              "        <td>10005</td>\n",
              "        <td>Staff</td>\n",
              "        <td>1955-01-21</td>\n",
              "        <td>Kyoichi</td>\n",
              "        <td>Maliniak</td>\n",
              "        <td>M</td>\n",
              "        <td>1989-09-12</td>\n",
              "        <td>9999-01-01</td>\n",
              "        <td>Human Resources</td>\n",
              "        <td>78228</td>\n",
              "        <td>1</td>\n",
              "        <td>1</td>\n",
              "    </tr>\n",
              "    <tr>\n",
              "        <td>10006</td>\n",
              "        <td>Senior Engineer</td>\n",
              "        <td>1953-04-20</td>\n",
              "        <td>Anneke</td>\n",
              "        <td>Preusig</td>\n",
              "        <td>F</td>\n",
              "        <td>1989-06-02</td>\n",
              "        <td>9999-01-01</td>\n",
              "        <td>Development</td>\n",
              "        <td>40000</td>\n",
              "        <td>1</td>\n",
              "        <td>0</td>\n",
              "    </tr>\n",
              "    <tr>\n",
              "        <td>10007</td>\n",
              "        <td>Staff</td>\n",
              "        <td>1957-05-23</td>\n",
              "        <td>Tzvetan</td>\n",
              "        <td>Zielinski</td>\n",
              "        <td>F</td>\n",
              "        <td>1989-02-10</td>\n",
              "        <td>9999-01-01</td>\n",
              "        <td>Research</td>\n",
              "        <td>56724</td>\n",
              "        <td>1</td>\n",
              "        <td>1</td>\n",
              "    </tr>\n",
              "    <tr>\n",
              "        <td>10008</td>\n",
              "        <td>Assistant Engineer</td>\n",
              "        <td>1958-02-19</td>\n",
              "        <td>Saniya</td>\n",
              "        <td>Kalloufi</td>\n",
              "        <td>M</td>\n",
              "        <td>1994-09-15</td>\n",
              "        <td>2000-07-31</td>\n",
              "        <td>Development</td>\n",
              "        <td>46671</td>\n",
              "        <td>0</td>\n",
              "        <td>0</td>\n",
              "    </tr>\n",
              "    <tr>\n",
              "        <td>10009</td>\n",
              "        <td>Senior Engineer</td>\n",
              "        <td>1952-04-19</td>\n",
              "        <td>Sumant</td>\n",
              "        <td>Peac</td>\n",
              "        <td>F</td>\n",
              "        <td>1985-02-18</td>\n",
              "        <td>9999-01-01</td>\n",
              "        <td>Quality Management</td>\n",
              "        <td>60929</td>\n",
              "        <td>1</td>\n",
              "        <td>1</td>\n",
              "    </tr>\n",
              "    <tr>\n",
              "        <td>10010</td>\n",
              "        <td>Engineer</td>\n",
              "        <td>1963-06-01</td>\n",
              "        <td>Duangkaew</td>\n",
              "        <td>Piveteau</td>\n",
              "        <td>F</td>\n",
              "        <td>1989-08-24</td>\n",
              "        <td>2000-06-26</td>\n",
              "        <td>Production</td>\n",
              "        <td>72488</td>\n",
              "        <td>0</td>\n",
              "        <td>1</td>\n",
              "    </tr>\n",
              "</table>"
            ],
            "text/plain": [
              "[(10001, 'Senior Engineer', '1953-09-02', 'Georgi', 'Facello', 'M', '1986-06-26', '9999-01-01', 'Development', 60117, 1, 1),\n",
              " (10002, 'Staff', '1964-06-02', 'Bezalel', 'Simmel', 'F', '1985-11-21', '9999-01-01', 'Sales', 65828, 1, 1),\n",
              " (10003, 'Senior Engineer', '1959-12-03', 'Parto', 'Bamford', 'M', '1986-08-28', '9999-01-01', 'Production', 40006, 1, 0),\n",
              " (10004, 'Senior Engineer', '1954-05-01', 'Chirstian', 'Koblick', 'M', '1986-12-01', '9999-01-01', 'Production', 40054, 1, 0),\n",
              " (10005, 'Staff', '1955-01-21', 'Kyoichi', 'Maliniak', 'M', '1989-09-12', '9999-01-01', 'Human Resources', 78228, 1, 1),\n",
              " (10006, 'Senior Engineer', '1953-04-20', 'Anneke', 'Preusig', 'F', '1989-06-02', '9999-01-01', 'Development', 40000, 1, 0),\n",
              " (10007, 'Staff', '1957-05-23', 'Tzvetan', 'Zielinski', 'F', '1989-02-10', '9999-01-01', 'Research', 56724, 1, 1),\n",
              " (10008, 'Assistant Engineer', '1958-02-19', 'Saniya', 'Kalloufi', 'M', '1994-09-15', '2000-07-31', 'Development', 46671, 0, 0),\n",
              " (10009, 'Senior Engineer', '1952-04-19', 'Sumant', 'Peac', 'F', '1985-02-18', '9999-01-01', 'Quality Management', 60929, 1, 1),\n",
              " (10010, 'Engineer', '1963-06-01', 'Duangkaew', 'Piveteau', 'F', '1989-08-24', '2000-06-26', 'Production', 72488, 0, 1)]"
            ]
          },
          "execution_count": 113,
          "metadata": {},
          "output_type": "execute_result"
        }
      ],
      "source": [
        "%%sql\n",
        "\n",
        "select e.*, d.to_date, d.dept_name, cast(s.salary as integer) as salary,\n",
        "    case when (d.to_date = '9999-01-01') then 1 else 0 end as flg_curr,\n",
        "    case when (s.salary > 52971.0) then 1 else 0 end as flg_avg_salary\n",
        "from employees e\n",
        "inner join dept_emp d on d.emp_no = e.emp_no\n",
        "inner join salaries s on s.emp_no = e.emp_no\n",
        "\n",
        "limit 10"
      ]
    },
    {
      "cell_type": "markdown",
      "metadata": {
        "id": "hm_l3EpHWzDb"
      },
      "source": [
        "11) Найдём уникальное количество пользователей в каждом департаменте"
      ]
    },
    {
      "cell_type": "code",
      "execution_count": null,
      "metadata": {
        "id": "A_NlRzbnWzDb",
        "outputId": "112f900a-2639-47cb-ac8b-e398b747183f"
      },
      "outputs": [
        {
          "name": "stdout",
          "output_type": "stream",
          "text": [
            " * sqlite:///Files/EmployeeSQL.db\n",
            "Done.\n"
          ]
        },
        {
          "data": {
            "text/html": [
              "<table>\n",
              "    <tr>\n",
              "        <th>dept_name</th>\n",
              "        <th>title</th>\n",
              "        <th>count_emp</th>\n",
              "    </tr>\n",
              "    <tr>\n",
              "        <td>Customer Service</td>\n",
              "        <td>Assistant Engineer</td>\n",
              "        <td>108</td>\n",
              "    </tr>\n",
              "    <tr>\n",
              "        <td>Customer Service</td>\n",
              "        <td>Engineer</td>\n",
              "        <td>944</td>\n",
              "    </tr>\n",
              "    <tr>\n",
              "        <td>Customer Service</td>\n",
              "        <td>Manager</td>\n",
              "        <td>4</td>\n",
              "    </tr>\n",
              "    <tr>\n",
              "        <td>Customer Service</td>\n",
              "        <td>Senior Engineer</td>\n",
              "        <td>2027</td>\n",
              "    </tr>\n",
              "    <tr>\n",
              "        <td>Customer Service</td>\n",
              "        <td>Senior Staff</td>\n",
              "        <td>4041</td>\n",
              "    </tr>\n",
              "    <tr>\n",
              "        <td>Customer Service</td>\n",
              "        <td>Staff</td>\n",
              "        <td>16147</td>\n",
              "    </tr>\n",
              "    <tr>\n",
              "        <td>Customer Service</td>\n",
              "        <td>Technique Leader</td>\n",
              "        <td>309</td>\n",
              "    </tr>\n",
              "    <tr>\n",
              "        <td>Development</td>\n",
              "        <td>Assistant Engineer</td>\n",
              "        <td>2987</td>\n",
              "    </tr>\n",
              "    <tr>\n",
              "        <td>Development</td>\n",
              "        <td>Engineer</td>\n",
              "        <td>23938</td>\n",
              "    </tr>\n",
              "    <tr>\n",
              "        <td>Development</td>\n",
              "        <td>Manager</td>\n",
              "        <td>2</td>\n",
              "    </tr>\n",
              "    <tr>\n",
              "        <td>Development</td>\n",
              "        <td>Senior Engineer</td>\n",
              "        <td>49326</td>\n",
              "    </tr>\n",
              "    <tr>\n",
              "        <td>Development</td>\n",
              "        <td>Senior Staff</td>\n",
              "        <td>349</td>\n",
              "    </tr>\n",
              "    <tr>\n",
              "        <td>Development</td>\n",
              "        <td>Staff</td>\n",
              "        <td>1424</td>\n",
              "    </tr>\n",
              "    <tr>\n",
              "        <td>Development</td>\n",
              "        <td>Technique Leader</td>\n",
              "        <td>7681</td>\n",
              "    </tr>\n",
              "    <tr>\n",
              "        <td>Finance</td>\n",
              "        <td>Manager</td>\n",
              "        <td>2</td>\n",
              "    </tr>\n",
              "    <tr>\n",
              "        <td>Finance</td>\n",
              "        <td>Senior Staff</td>\n",
              "        <td>3415</td>\n",
              "    </tr>\n",
              "    <tr>\n",
              "        <td>Finance</td>\n",
              "        <td>Staff</td>\n",
              "        <td>13929</td>\n",
              "    </tr>\n",
              "    <tr>\n",
              "        <td>Human Resources</td>\n",
              "        <td>Manager</td>\n",
              "        <td>2</td>\n",
              "    </tr>\n",
              "    <tr>\n",
              "        <td>Human Resources</td>\n",
              "        <td>Senior Staff</td>\n",
              "        <td>3443</td>\n",
              "    </tr>\n",
              "    <tr>\n",
              "        <td>Human Resources</td>\n",
              "        <td>Staff</td>\n",
              "        <td>14341</td>\n",
              "    </tr>\n",
              "    <tr>\n",
              "        <td>Marketing</td>\n",
              "        <td>Manager</td>\n",
              "        <td>2</td>\n",
              "    </tr>\n",
              "    <tr>\n",
              "        <td>Marketing</td>\n",
              "        <td>Senior Staff</td>\n",
              "        <td>4013</td>\n",
              "    </tr>\n",
              "    <tr>\n",
              "        <td>Marketing</td>\n",
              "        <td>Staff</td>\n",
              "        <td>16196</td>\n",
              "    </tr>\n",
              "    <tr>\n",
              "        <td>Production</td>\n",
              "        <td>Assistant Engineer</td>\n",
              "        <td>2474</td>\n",
              "    </tr>\n",
              "    <tr>\n",
              "        <td>Production</td>\n",
              "        <td>Engineer</td>\n",
              "        <td>20416</td>\n",
              "    </tr>\n",
              "    <tr>\n",
              "        <td>Production</td>\n",
              "        <td>Manager</td>\n",
              "        <td>4</td>\n",
              "    </tr>\n",
              "    <tr>\n",
              "        <td>Production</td>\n",
              "        <td>Senior Engineer</td>\n",
              "        <td>42203</td>\n",
              "    </tr>\n",
              "    <tr>\n",
              "        <td>Production</td>\n",
              "        <td>Senior Staff</td>\n",
              "        <td>357</td>\n",
              "    </tr>\n",
              "    <tr>\n",
              "        <td>Production</td>\n",
              "        <td>Staff</td>\n",
              "        <td>1478</td>\n",
              "    </tr>\n",
              "    <tr>\n",
              "        <td>Production</td>\n",
              "        <td>Technique Leader</td>\n",
              "        <td>6553</td>\n",
              "    </tr>\n",
              "    <tr>\n",
              "        <td>Quality Management</td>\n",
              "        <td>Assistant Engineer</td>\n",
              "        <td>735</td>\n",
              "    </tr>\n",
              "    <tr>\n",
              "        <td>Quality Management</td>\n",
              "        <td>Engineer</td>\n",
              "        <td>5725</td>\n",
              "    </tr>\n",
              "    <tr>\n",
              "        <td>Quality Management</td>\n",
              "        <td>Manager</td>\n",
              "        <td>4</td>\n",
              "    </tr>\n",
              "    <tr>\n",
              "        <td>Quality Management</td>\n",
              "        <td>Senior Engineer</td>\n",
              "        <td>11863</td>\n",
              "    </tr>\n",
              "    <tr>\n",
              "        <td>Quality Management</td>\n",
              "        <td>Technique Leader</td>\n",
              "        <td>1790</td>\n",
              "    </tr>\n",
              "    <tr>\n",
              "        <td>Research</td>\n",
              "        <td>Assistant Engineer</td>\n",
              "        <td>127</td>\n",
              "    </tr>\n",
              "    <tr>\n",
              "        <td>Research</td>\n",
              "        <td>Engineer</td>\n",
              "        <td>1245</td>\n",
              "    </tr>\n",
              "    <tr>\n",
              "        <td>Research</td>\n",
              "        <td>Manager</td>\n",
              "        <td>2</td>\n",
              "    </tr>\n",
              "    <tr>\n",
              "        <td>Research</td>\n",
              "        <td>Senior Engineer</td>\n",
              "        <td>2570</td>\n",
              "    </tr>\n",
              "    <tr>\n",
              "        <td>Research</td>\n",
              "        <td>Senior Staff</td>\n",
              "        <td>3295</td>\n",
              "    </tr>\n",
              "    <tr>\n",
              "        <td>Research</td>\n",
              "        <td>Staff</td>\n",
              "        <td>13494</td>\n",
              "    </tr>\n",
              "    <tr>\n",
              "        <td>Research</td>\n",
              "        <td>Technique Leader</td>\n",
              "        <td>393</td>\n",
              "    </tr>\n",
              "    <tr>\n",
              "        <td>Sales</td>\n",
              "        <td>Manager</td>\n",
              "        <td>2</td>\n",
              "    </tr>\n",
              "    <tr>\n",
              "        <td>Sales</td>\n",
              "        <td>Senior Staff</td>\n",
              "        <td>10437</td>\n",
              "    </tr>\n",
              "    <tr>\n",
              "        <td>Sales</td>\n",
              "        <td>Staff</td>\n",
              "        <td>41806</td>\n",
              "    </tr>\n",
              "</table>"
            ],
            "text/plain": [
              "[('Customer Service', 'Assistant Engineer', 108),\n",
              " ('Customer Service', 'Engineer', 944),\n",
              " ('Customer Service', 'Manager', 4),\n",
              " ('Customer Service', 'Senior Engineer', 2027),\n",
              " ('Customer Service', 'Senior Staff', 4041),\n",
              " ('Customer Service', 'Staff', 16147),\n",
              " ('Customer Service', 'Technique Leader', 309),\n",
              " ('Development', 'Assistant Engineer', 2987),\n",
              " ('Development', 'Engineer', 23938),\n",
              " ('Development', 'Manager', 2),\n",
              " ('Development', 'Senior Engineer', 49326),\n",
              " ('Development', 'Senior Staff', 349),\n",
              " ('Development', 'Staff', 1424),\n",
              " ('Development', 'Technique Leader', 7681),\n",
              " ('Finance', 'Manager', 2),\n",
              " ('Finance', 'Senior Staff', 3415),\n",
              " ('Finance', 'Staff', 13929),\n",
              " ('Human Resources', 'Manager', 2),\n",
              " ('Human Resources', 'Senior Staff', 3443),\n",
              " ('Human Resources', 'Staff', 14341),\n",
              " ('Marketing', 'Manager', 2),\n",
              " ('Marketing', 'Senior Staff', 4013),\n",
              " ('Marketing', 'Staff', 16196),\n",
              " ('Production', 'Assistant Engineer', 2474),\n",
              " ('Production', 'Engineer', 20416),\n",
              " ('Production', 'Manager', 4),\n",
              " ('Production', 'Senior Engineer', 42203),\n",
              " ('Production', 'Senior Staff', 357),\n",
              " ('Production', 'Staff', 1478),\n",
              " ('Production', 'Technique Leader', 6553),\n",
              " ('Quality Management', 'Assistant Engineer', 735),\n",
              " ('Quality Management', 'Engineer', 5725),\n",
              " ('Quality Management', 'Manager', 4),\n",
              " ('Quality Management', 'Senior Engineer', 11863),\n",
              " ('Quality Management', 'Technique Leader', 1790),\n",
              " ('Research', 'Assistant Engineer', 127),\n",
              " ('Research', 'Engineer', 1245),\n",
              " ('Research', 'Manager', 2),\n",
              " ('Research', 'Senior Engineer', 2570),\n",
              " ('Research', 'Senior Staff', 3295),\n",
              " ('Research', 'Staff', 13494),\n",
              " ('Research', 'Technique Leader', 393),\n",
              " ('Sales', 'Manager', 2),\n",
              " ('Sales', 'Senior Staff', 10437),\n",
              " ('Sales', 'Staff', 41806)]"
            ]
          },
          "execution_count": 117,
          "metadata": {},
          "output_type": "execute_result"
        }
      ],
      "source": [
        "%%sql\n",
        "\n",
        "select d.dept_name, e.title, count(e.title) as count_emp\n",
        "from dept_emp d\n",
        "inner join employees e on d.emp_no = e.emp_no\n",
        "group by dept_name, title\n"
      ]
    }
  ],
  "metadata": {
    "hide_input": false,
    "kernelspec": {
      "display_name": "Python 3 (ipykernel)",
      "language": "python",
      "name": "python3"
    },
    "language_info": {
      "codemirror_mode": {
        "name": "ipython",
        "version": 3
      },
      "file_extension": ".py",
      "mimetype": "text/x-python",
      "name": "python",
      "nbconvert_exporter": "python",
      "pygments_lexer": "ipython3",
      "version": "3.10.11"
    },
    "toc": {
      "base_numbering": 1,
      "nav_menu": {},
      "number_sections": true,
      "sideBar": true,
      "skip_h1_title": false,
      "title_cell": "Table of Contents",
      "title_sidebar": "Contents",
      "toc_cell": false,
      "toc_position": {},
      "toc_section_display": true,
      "toc_window_display": false
    },
    "colab": {
      "provenance": [],
      "include_colab_link": true
    }
  },
  "nbformat": 4,
  "nbformat_minor": 0
}
